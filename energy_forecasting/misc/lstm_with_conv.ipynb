{
 "cells": [
  {
   "cell_type": "markdown",
   "metadata": {},
   "source": [
    "# Implementation of LSTM model with Convolution Layers\n",
    "\n",
    "- Architecture\n",
    "    - Conv1d -> LSTM (l1) -> LSTM (l2) -> FC -> FC -> FC\n",
    "\n",
    "- Initial Params\n",
    "    - convlution layer, filters = 64, kernel_size = 3, strides = 1, activation = \"relu\", padding = \"causal\", input_shape = [window_size, 1]\n",
    "    - lstm layer 1; units = 64, return_sequences = True \n",
    "    - lstm layer 2; units = 64\n",
    "    - Dense layers; units = 30, activation = \"relu\"\n",
    "    - Dense layer; units = 30, activation = \"relu\""
   ]
  },
  {
   "cell_type": "code",
   "execution_count": 6,
   "metadata": {},
   "outputs": [],
   "source": [
    "import torch \n",
    "import torch.nn as nn \n",
    "import torch.optim as optim \n",
    "\n",
    "import numpy as np \n",
    "import pandas as pd \n",
    "\n",
    "import sys \n",
    "import os \n",
    "\n",
    "import plotly.graph_objs as go \n",
    "\n",
    "sys.path.append(\"..\")\n",
    "from utils.utils import windowed_dataset, generate_cyclic_features, ohe, train_val_test_split, normalise, torch_dataset, inverse_normalise"
   ]
  },
  {
   "cell_type": "markdown",
   "metadata": {},
   "source": [
    "## Read Data"
   ]
  },
  {
   "cell_type": "code",
   "execution_count": 23,
   "metadata": {},
   "outputs": [
    {
     "data": {
      "text/html": [
       "<div>\n",
       "<style scoped>\n",
       "    .dataframe tbody tr th:only-of-type {\n",
       "        vertical-align: middle;\n",
       "    }\n",
       "\n",
       "    .dataframe tbody tr th {\n",
       "        vertical-align: top;\n",
       "    }\n",
       "\n",
       "    .dataframe thead th {\n",
       "        text-align: right;\n",
       "    }\n",
       "</style>\n",
       "<table border=\"1\" class=\"dataframe\">\n",
       "  <thead>\n",
       "    <tr style=\"text-align: right;\">\n",
       "      <th></th>\n",
       "      <th>day_of_week</th>\n",
       "      <th>hour</th>\n",
       "      <th>energy_load</th>\n",
       "    </tr>\n",
       "  </thead>\n",
       "  <tbody>\n",
       "    <tr>\n",
       "      <th>0</th>\n",
       "      <td>0</td>\n",
       "      <td>19</td>\n",
       "      <td>447</td>\n",
       "    </tr>\n",
       "    <tr>\n",
       "      <th>1</th>\n",
       "      <td>0</td>\n",
       "      <td>20</td>\n",
       "      <td>435</td>\n",
       "    </tr>\n",
       "    <tr>\n",
       "      <th>2</th>\n",
       "      <td>0</td>\n",
       "      <td>21</td>\n",
       "      <td>451</td>\n",
       "    </tr>\n",
       "    <tr>\n",
       "      <th>3</th>\n",
       "      <td>0</td>\n",
       "      <td>22</td>\n",
       "      <td>442</td>\n",
       "    </tr>\n",
       "    <tr>\n",
       "      <th>4</th>\n",
       "      <td>0</td>\n",
       "      <td>23</td>\n",
       "      <td>444</td>\n",
       "    </tr>\n",
       "  </tbody>\n",
       "</table>\n",
       "</div>"
      ],
      "text/plain": [
       "   day_of_week  hour  energy_load\n",
       "0            0    19          447\n",
       "1            0    20          435\n",
       "2            0    21          451\n",
       "3            0    22          442\n",
       "4            0    23          444"
      ]
     },
     "execution_count": 23,
     "metadata": {},
     "output_type": "execute_result"
    }
   ],
   "source": [
    "# Read data \n",
    "df = pd.read_csv(\"../data/load_ammended.csv\")\n",
    "df.head()"
   ]
  },
  {
   "cell_type": "markdown",
   "metadata": {},
   "source": [
    "## Params"
   ]
  },
  {
   "cell_type": "code",
   "execution_count": 33,
   "metadata": {},
   "outputs": [],
   "source": [
    "window_size = 24\n",
    "batch_size = 64\n",
    "\n",
    "val_ratio = 0.15\n",
    "test_ratio = 0.15"
   ]
  },
  {
   "cell_type": "markdown",
   "metadata": {},
   "source": [
    "## Preprocessing"
   ]
  },
  {
   "cell_type": "code",
   "execution_count": 25,
   "metadata": {},
   "outputs": [],
   "source": [
    "# Generate sin_hour, cos_hour\n",
    "# Replace hour with these components as NN will inherently learn better.\n",
    "df = generate_cyclic_features(df, \"hour\", 24)\n",
    "\n",
    "# One hot encode day_of_week\n",
    "ohe_arr = ohe(df, [\"day_of_week\"])\n",
    "\n",
    "# Windowed dataset - removes last incomplete window\n",
    "X,y = windowed_dataset(seq = df[\"energy_load\"], ws= window_size)\n",
    "\n",
    "# Remove the last incompleted window (Since the windowed dataset removes incompleted window)\n",
    "ohe_arr = ohe_arr[:len(X)]"
   ]
  },
  {
   "cell_type": "markdown",
   "metadata": {},
   "source": [
    "### Feature Concatenation\n",
    "**Approach 1**\n",
    "- X = [[x1, ..., x24, d1,0,..., 0, s1,c1];[x2, ..., x25,0,d2, ...,0,s2,c2]; ...]\n",
    "- shape : (df.shape[0], 33) -> later once batched : (batch_size, 33)"
   ]
  },
  {
   "cell_type": "code",
   "execution_count": 26,
   "metadata": {},
   "outputs": [
    {
     "name": "stdout",
     "output_type": "stream",
     "text": [
      "X : (3451, 33)\n"
     ]
    }
   ],
   "source": [
    "# Stack features\n",
    "X = np.hstack((X, ohe_arr))\n",
    "print(f\"X : {X.shape}\")"
   ]
  },
  {
   "cell_type": "markdown",
   "metadata": {},
   "source": [
    "### Train-Val-Test Split"
   ]
  },
  {
   "cell_type": "code",
   "execution_count": 29,
   "metadata": {},
   "outputs": [
    {
     "name": "stdout",
     "output_type": "stream",
     "text": [
      "shapes\n",
      "X_train : (2493, 33)\n",
      "y_train : (2493,)\n",
      "X_val : (440, 33)\n",
      "y_val : (440,)\n",
      "X_test : (518, 33)\n",
      "y_test : (518,)\n"
     ]
    }
   ],
   "source": [
    "# Train - Validation - Test Split \n",
    "X_train, X_val, X_test, y_train, y_val, y_test = train_val_test_split(X, y, val_ratio, test_ratio)\n",
    "\n",
    "print(\"shapes\") \n",
    "print(f\"X_train : {X_train.shape}\") \n",
    "print(f\"y_train : {y_train.shape}\") \n",
    "print(f\"X_val : {X_val.shape}\") \n",
    "print(f\"y_val : {y_val.shape}\") \n",
    "print(f\"X_test : {X_test.shape}\") \n",
    "print(f\"y_test : {y_test.shape}\") "
   ]
  },
  {
   "cell_type": "markdown",
   "metadata": {},
   "source": [
    "### Normalise"
   ]
  },
  {
   "cell_type": "code",
   "execution_count": 31,
   "metadata": {},
   "outputs": [],
   "source": [
    "\n",
    "# Normalise Data\n",
    "(norm_data, normaliser) = normalise(X_train, X_val, X_test, y_train.reshape(-1,1), y_val.reshape(-1,1), y_test.reshape(-1,1))\n",
    "\n",
    "X_train_norm, X_val_norm, X_test_norm, y_train_norm, y_val_norm, y_test_norm = norm_data"
   ]
  },
  {
   "cell_type": "markdown",
   "metadata": {},
   "source": [
    "### Torch Datasets"
   ]
  },
  {
   "cell_type": "code",
   "execution_count": 34,
   "metadata": {},
   "outputs": [],
   "source": [
    "# Get torch datasets\n",
    "train_loader, val_loader, test_loader = torch_dataset(\n",
    "    X_train_norm, \n",
    "    X_val_norm, \n",
    "    X_test_norm, \n",
    "    y_train_norm, \n",
    "    y_val_norm, \n",
    "    y_test_norm,\n",
    "    batch_size = batch_size\n",
    ")"
   ]
  },
  {
   "cell_type": "markdown",
   "metadata": {},
   "source": [
    "## Model"
   ]
  },
  {
   "cell_type": "code",
   "execution_count": 36,
   "metadata": {},
   "outputs": [],
   "source": [
    "class LSTMHybrid(nn.Module):\n",
    "    def __init__(self):\n",
    "        super(LSTMHybrid,self).__init__()\n",
    "        pass\n",
    "\n",
    "    def forward(self,X):\n",
    "        pass"
   ]
  }
 ],
 "metadata": {
  "interpreter": {
   "hash": "3337e941cc59713223cd9ff2eeb4bcef27311a994f595974c12bfa702f228a70"
  },
  "kernelspec": {
   "display_name": "Python 3.9.12 ('ml')",
   "language": "python",
   "name": "python3"
  },
  "language_info": {
   "codemirror_mode": {
    "name": "ipython",
    "version": 3
   },
   "file_extension": ".py",
   "mimetype": "text/x-python",
   "name": "python",
   "nbconvert_exporter": "python",
   "pygments_lexer": "ipython3",
   "version": "3.9.12"
  },
  "orig_nbformat": 4
 },
 "nbformat": 4,
 "nbformat_minor": 2
}
